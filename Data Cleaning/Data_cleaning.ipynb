{
 "cells": [
  {
   "cell_type": "markdown",
   "id": "8d372a13",
   "metadata": {},
   "source": [
    "# Data_Cleaning"
   ]
  },
  {
   "cell_type": "code",
   "execution_count": null,
   "id": "2db61b8e",
   "metadata": {
    "scrolled": true
   },
   "outputs": [],
   "source": [
    "import pandas as pd"
   ]
  },
  {
   "cell_type": "markdown",
   "id": "b651c5c5",
   "metadata": {},
   "source": [
    "### Covid_Cases File"
   ]
  },
  {
   "cell_type": "code",
   "execution_count": null,
   "id": "99e7ba0b",
   "metadata": {
    "scrolled": true
   },
   "outputs": [],
   "source": [
    "# Extract CSV into Dataframe\n",
    "file2 = \"../Resources/merged_covid_cases.csv\"\n",
    "\n",
    "#Read CSV\n",
    "case_df = pd.read_csv(file2, encoding=\"UTF-8\")\n",
    "case_df.head()"
   ]
  },
  {
   "cell_type": "code",
   "execution_count": null,
   "id": "0cfbab45",
   "metadata": {
    "scrolled": false
   },
   "outputs": [],
   "source": [
    "# Create new dataframe with select columns\n",
    "case_df = case_df[[\"State/Territory\", \"Total Cases\", \"Cases in Last 7 Days\", \"Case Rate per 100000\", \"Total Deaths\", \"Deaths in Last 7 Days\", \"Death Rate per 100000\", \"7-Day Cases Rate per 100000\", \"7-Day Death Rate per 100000\", \"New Cases\", \"New Deaths\", \"Latitude\", \"Longitude\"]]\n",
    "case_df.head()"
   ]
  },
  {
   "cell_type": "code",
   "execution_count": null,
   "id": "389537e5",
   "metadata": {},
   "outputs": [],
   "source": [
    "#State/Territory rows to drop\n",
    "# American Samoa2, District of Columbia9, Guam12, New York City34,Norhtern Mariana Islands38,Palau42,Puerto Rico44,\n",
    "# Republic of Marshall Islands45,United States of America51,Virgin Islands54\n",
    "\n",
    "case_df = case_df.drop([2, 9, 12, 34, 38, 42, 44, 45, 51, 54])\n",
    "case_df"
   ]
  },
  {
   "cell_type": "code",
   "execution_count": null,
   "id": "bc491fa9",
   "metadata": {},
   "outputs": [],
   "source": [
    "# Save dataframe as csv file\n",
    "case_df.to_csv(\"../Resources/Cleaned_Files/cleaned_covid_case.csv\", index=False)"
   ]
  },
  {
   "cell_type": "markdown",
   "id": "66bd7daf",
   "metadata": {},
   "source": [
    "### Covid_Vaccine File"
   ]
  },
  {
   "cell_type": "code",
   "execution_count": null,
   "id": "17886051",
   "metadata": {
    "scrolled": true
   },
   "outputs": [],
   "source": [
    "# Extract CSV into Dataframe\n",
    "file3 = \"../Resources/merged_covid_vaccine.csv\"\n",
    "\n",
    "#Read CSV\n",
    "vaccine_df = pd.read_csv(file3, encoding=\"UTF-8\")\n",
    "vaccine_df.head()"
   ]
  },
  {
   "cell_type": "code",
   "execution_count": null,
   "id": "8785cc69",
   "metadata": {
    "scrolled": true
   },
   "outputs": [],
   "source": [
    "# Create new dataframe with select columns\n",
    "vaccine_df = vaccine_df[[\"State/Territory\", \"Total Doses Distributed\", \"Doses Distributed per 100K\", \"Total Doses Administered by State where Administered\", \"Doses Administered per 100k by State where Administered\", \"People Fully Vaccinated by State of Residence\", \"Latitude\", \"Longitude\"]]\n",
    "vaccine_df.head()"
   ]
  },
  {
   "cell_type": "code",
   "execution_count": null,
   "id": "9fdb41cb",
   "metadata": {},
   "outputs": [],
   "source": [
    "#State/Territory rows to drop\n",
    "# American Samoa4, Bureau of Prisons6, District of Columbia10,Guam14,Indian Health Svc18,Marshall Islands27,\n",
    "# Northern Mariana Islands31,Puerto Rico46,Republic of Palau47,Veterans Health55,Virgin Islands56\n",
    "\n",
    "vaccine_df = vaccine_df.drop([4, 6, 10, 14, 18, 27, 31, 46, 47, 55, 56])\n",
    "vaccine_df"
   ]
  },
  {
   "cell_type": "code",
   "execution_count": null,
   "id": "682510d5",
   "metadata": {},
   "outputs": [],
   "source": [
    "# Save dataframe as csv file\n",
    "vaccine_df.to_csv(\"../Resources/Cleaned_Files/cleaned_covid_vaccine.csv\", index=False)"
   ]
  },
  {
   "cell_type": "code",
   "execution_count": null,
   "id": "2edefdd8",
   "metadata": {},
   "outputs": [],
   "source": []
  }
 ],
 "metadata": {
  "kernelspec": {
   "display_name": "Python [conda env:PythonData38] *",
   "language": "python",
   "name": "conda-env-PythonData38-py"
  },
  "language_info": {
   "codemirror_mode": {
    "name": "ipython",
    "version": 3
   },
   "file_extension": ".py",
   "mimetype": "text/x-python",
   "name": "python",
   "nbconvert_exporter": "python",
   "pygments_lexer": "ipython3",
   "version": "3.8.13"
  }
 },
 "nbformat": 4,
 "nbformat_minor": 5
}
