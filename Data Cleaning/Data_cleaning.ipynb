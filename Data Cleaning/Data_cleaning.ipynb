{
 "cells": [
  {
   "cell_type": "markdown",
   "id": "8d372a13",
   "metadata": {},
   "source": [
    "# Data_Cleaning"
   ]
  },
  {
   "cell_type": "code",
   "execution_count": null,
   "id": "2db61b8e",
   "metadata": {
    "scrolled": true
   },
   "outputs": [],
   "source": [
    "import pandas as pd"
   ]
  },
  {
   "cell_type": "markdown",
   "id": "c44b53ac",
   "metadata": {},
   "source": [
    "### States_Lat_Long File"
   ]
  },
  {
   "cell_type": "code",
   "execution_count": null,
   "id": "6403316a",
   "metadata": {},
   "outputs": [],
   "source": [
    "# Extract CSV into Dataframe\n",
    "file1 = \"../Resources/states_lat_long.csv\"\n",
    "\n",
    "#Read CSV\n",
    "states_df = pd.read_csv(file1, encoding=\"UTF-8\")\n",
    "states_df.head()"
   ]
  },
  {
   "cell_type": "markdown",
   "id": "b651c5c5",
   "metadata": {},
   "source": [
    "### Covid_Cases File"
   ]
  },
  {
   "cell_type": "code",
   "execution_count": null,
   "id": "99e7ba0b",
   "metadata": {
    "scrolled": true
   },
   "outputs": [],
   "source": [
    "# Extract CSV into Dataframe\n",
    "file2 = \"../Resources/covid_cases.csv\"\n",
    "\n",
    "#Read CSV\n",
    "case_df = pd.read_csv(file2, encoding=\"UTF-8\")\n",
    "case_df.head()"
   ]
  },
  {
   "cell_type": "code",
   "execution_count": null,
   "id": "0cfbab45",
   "metadata": {},
   "outputs": [],
   "source": [
    "# Create new dataframe with select columns\n",
    "case_df = case_df[[\"State/Territory\", \"Total Cases\", \"Cases in Last 7 Days\", \"Case Rate per 100000\", \"Total Deaths\", \"Deaths in Last 7 Days\", \"Death Rate per 100000\", \"7-Day Cases Rate per 100000\", \"7-Day Death Rate per 100000\", \"New Cases\", \"New Deaths\"]]\n",
    "case_df.head()"
   ]
  },
  {
   "cell_type": "code",
   "execution_count": null,
   "id": "d981a997",
   "metadata": {},
   "outputs": [],
   "source": [
    "# Save dataframe as csv file\n",
    "case_df.to_csv(\"../Resources/Cleaned_Files/cleaned_covid_case.csv\", index=False)"
   ]
  },
  {
   "cell_type": "code",
   "execution_count": null,
   "id": "54b72826",
   "metadata": {},
   "outputs": [],
   "source": [
    "#case_df = case_df.merge(states_df,on='State/Territory')\n",
    "#case_df"
   ]
  },
  {
   "cell_type": "markdown",
   "id": "66bd7daf",
   "metadata": {},
   "source": [
    "### Covid_Vaccine File"
   ]
  },
  {
   "cell_type": "code",
   "execution_count": null,
   "id": "17886051",
   "metadata": {
    "scrolled": true
   },
   "outputs": [],
   "source": [
    "# Extract CSV into Dataframe\n",
    "file3 = \"../Resources/covid_vaccine.csv\"\n",
    "\n",
    "#Read CSV\n",
    "vaccine_df = pd.read_csv(file3, encoding=\"UTF-8\")\n",
    "vaccine_df.head()"
   ]
  },
  {
   "cell_type": "code",
   "execution_count": null,
   "id": "8785cc69",
   "metadata": {
    "scrolled": true
   },
   "outputs": [],
   "source": [
    "# Create new dataframe with select columns\n",
    "vaccine_df = vaccine_df[[\"State/Territory\", \"Total Doses Distributed\", \"Doses Distributed per 100K\", \"Total Doses Administered by State where Administered\", \"Doses Administered per 100k by State where Administered\", \"People Fully Vaccinated by State of Residence\"]]\n",
    "vaccine_df.head()"
   ]
  },
  {
   "cell_type": "code",
   "execution_count": null,
   "id": "682510d5",
   "metadata": {},
   "outputs": [],
   "source": [
    "# Save dataframe as csv file\n",
    "vaccine_df.to_csv(\"../Resources/Cleaned_Files/cleaned_covid_vaccine.csv\", index=False)"
   ]
  },
  {
   "cell_type": "code",
   "execution_count": null,
   "id": "2edefdd8",
   "metadata": {},
   "outputs": [],
   "source": []
  }
 ],
 "metadata": {
  "kernelspec": {
   "display_name": "Python [conda env:PythonData38a] *",
   "language": "python",
   "name": "conda-env-PythonData38a-py"
  },
  "language_info": {
   "codemirror_mode": {
    "name": "ipython",
    "version": 3
   },
   "file_extension": ".py",
   "mimetype": "text/x-python",
   "name": "python",
   "nbconvert_exporter": "python",
   "pygments_lexer": "ipython3",
   "version": "3.8.12"
  }
 },
 "nbformat": 4,
 "nbformat_minor": 5
}
