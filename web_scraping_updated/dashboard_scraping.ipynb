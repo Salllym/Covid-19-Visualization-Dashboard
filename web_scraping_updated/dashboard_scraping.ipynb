{
 "cells": [
  {
   "cell_type": "code",
   "execution_count": 1,
   "id": "055a9898",
   "metadata": {},
   "outputs": [],
   "source": [
    "# Import packages and dependencies\n",
    "from splinter import Browser\n",
    "import time\n",
    "from bs4 import BeautifulSoup\n",
    "from webdriver_manager.chrome import ChromeDriverManager"
   ]
  },
  {
   "cell_type": "code",
   "execution_count": 2,
   "id": "7b2b31cf",
   "metadata": {},
   "outputs": [
    {
     "name": "stderr",
     "output_type": "stream",
     "text": [
      "\n",
      "\n",
      "====== WebDriver manager ======\n",
      "Current google-chrome version is 103.0.5060\n",
      "Get LATEST chromedriver version for 103.0.5060 google-chrome\n",
      "Driver [C:\\Users\\User\\.wdm\\drivers\\chromedriver\\win32\\103.0.5060.53\\chromedriver.exe] found in cache\n"
     ]
    }
   ],
   "source": [
    "# Setup Splinter\n",
    "executable_path = {'executable_path': ChromeDriverManager().install()}\n",
    "browser = Browser('chrome', **executable_path, headless=False)\n",
    "\n",
    "# URL to scrape\n",
    "url = \"https://covid.cdc.gov/covid-data-tracker/#cases_casesper100klast7days\"\n",
    "\n",
    "# Call visit on our browser and pass in the URL we want to scrape   \n",
    "browser.visit(url)\n",
    "\n",
    "# Let it sleep for 1 second\n",
    "time.sleep(1)\n",
    "\n",
    "# Return all the HTML on our page\n",
    "html = browser.html\n",
    "    \n",
    "# Create a Beautiful Soup object, pass in our HTML, and call 'html.parser'\n",
    "soup = BeautifulSoup(html, \"html.parser\")"
   ]
  },
  {
   "cell_type": "code",
   "execution_count": 3,
   "id": "97f025ef",
   "metadata": {},
   "outputs": [],
   "source": [
    "# Quit the browser\n",
    "browser.quit()"
   ]
  },
  {
   "cell_type": "code",
   "execution_count": 4,
   "id": "ab29fffa",
   "metadata": {},
   "outputs": [
    {
     "name": "stdout",
     "output_type": "stream",
     "text": [
      "86,512,787\n",
      "+130,274 New Cases\n"
     ]
    }
   ],
   "source": [
    "# Pulls appropriate section of HTML\n",
    "temp = soup.find(\"div\", {\"id\": \"card_001\"})\n",
    "\n",
    "# Stores the total number of cases and formats it\n",
    "total_cases = temp.find(\"div\", class_=\"card-number\").get_text()\n",
    "total_cases = total_cases.replace(\"\\n\", \"\").replace(\" \", \"\")\n",
    "total_cases = total_cases.split(\"+\")\n",
    "total_cases = total_cases[0]\n",
    "\n",
    "# Stores the number of new cases and formats it\n",
    "new_cases = temp.find(\"div\", class_=\"card-recent\").get_text()\n",
    "new_cases = new_cases.strip()\n",
    "\n",
    "print(total_cases)\n",
    "print(new_cases)"
   ]
  },
  {
   "cell_type": "code",
   "execution_count": 5,
   "id": "92694542",
   "metadata": {},
   "outputs": [
    {
     "name": "stdout",
     "output_type": "stream",
     "text": [
      "205.4\n"
     ]
    }
   ],
   "source": [
    "# Pulls appropriate section of HTML\n",
    "temp = soup.find(\"div\", {\"id\": \"card_002\"})\n",
    "\n",
    "# Stores 7 day case rate per 100,000 and formats it\n",
    "seven_day_case_rate_per_100000 = temp.find(\"div\", class_=\"card-number\").get_text()\n",
    "seven_day_case_rate_per_100000 = seven_day_case_rate_per_100000.replace(\"\\n\", \"\").replace(\" \", \"\")\n",
    "\n",
    "print(seven_day_case_rate_per_100000)"
   ]
  },
  {
   "cell_type": "code",
   "execution_count": 6,
   "id": "701f7f95",
   "metadata": {},
   "outputs": [
    {
     "name": "stdout",
     "output_type": "stream",
     "text": [
      "1,010,090\n",
      "+545 New Deaths\n"
     ]
    }
   ],
   "source": [
    "# Pulls appropriate section of HTML\n",
    "temp = soup.find(\"div\", {\"id\": \"card_003\"})\n",
    "\n",
    "# Stores total deaths and formats it\n",
    "total_deaths = temp.find(\"div\", class_=\"card-number\").get_text()\n",
    "total_deaths = total_deaths.replace(\"\\n\", \"\").replace(\" \", \"\")\n",
    "total_deaths = total_deaths.split(\"+\")\n",
    "total_deaths = total_deaths[0]\n",
    "\n",
    "# Stores new deaths and formats it\n",
    "new_deaths = temp.find(\"div\", class_=\"card-recent\").get_text()\n",
    "new_deaths = new_deaths.strip()\n",
    "\n",
    "print(total_deaths)\n",
    "print(new_deaths)"
   ]
  },
  {
   "cell_type": "code",
   "execution_count": 7,
   "id": "a2287fb1",
   "metadata": {},
   "outputs": [
    {
     "name": "stderr",
     "output_type": "stream",
     "text": [
      "\n",
      "\n",
      "====== WebDriver manager ======\n",
      "Current google-chrome version is 103.0.5060\n",
      "Get LATEST chromedriver version for 103.0.5060 google-chrome\n",
      "Driver [C:\\Users\\User\\.wdm\\drivers\\chromedriver\\win32\\103.0.5060.53\\chromedriver.exe] found in cache\n"
     ]
    }
   ],
   "source": [
    "# Setup Splinter\n",
    "executable_path = {'executable_path': ChromeDriverManager().install()}\n",
    "browser = Browser('chrome', **executable_path, headless=False)\n",
    "\n",
    "# URL to scrape\n",
    "url = \"https://covid.cdc.gov/covid-data-tracker/#vaccinations_vacc-total-admin-rate-total\"\n",
    "\n",
    "# Call visit on our browser and pass in the URL we want to scrape   \n",
    "browser.visit(url)\n",
    "\n",
    "# Let it sleep for 1 second\n",
    "time.sleep(1)\n",
    "\n",
    "# Return all the HTML on our page\n",
    "html = browser.html\n",
    "    \n",
    "# Create a Beautiful Soup object, pass in our HTML, and call 'html.parser'\n",
    "soup = BeautifulSoup(html, \"html.parser\")"
   ]
  },
  {
   "cell_type": "code",
   "execution_count": 8,
   "id": "7ea2427e",
   "metadata": {},
   "outputs": [],
   "source": [
    "# Quit the browser\n",
    "browser.quit()"
   ]
  },
  {
   "cell_type": "code",
   "execution_count": 9,
   "id": "bcb140b3",
   "metadata": {},
   "outputs": [
    {
     "name": "stdout",
     "output_type": "stream",
     "text": [
      "762,236,905\n",
      "593,739,529\n"
     ]
    }
   ],
   "source": [
    "# Pulls appropriate section of HTML\n",
    "temp = soup.find(\"div\", class_=\"card-wrapper\")\n",
    "\n",
    "# Stores total doses distributed and formats it\n",
    "total_doses_distributed = temp.find(\"div\", class_=\"justify-content-center\").get_text()\n",
    "total_doses_distributed = total_doses_distributed.replace(\"\\n\", \"\").replace(\" \", \"\")\n",
    "\n",
    "# Stores total doses administered and formats it\n",
    "total_doses_administered = temp.find(\"div\", class_=\"inner-content\").get_text()\n",
    "total_doses_administered = total_doses_administered.replace(\"\\n\", \"\").replace(\" \", \"\")\n",
    "\n",
    "print(total_doses_distributed)\n",
    "print(total_doses_administered)"
   ]
  },
  {
   "cell_type": "code",
   "execution_count": 10,
   "id": "00c4646c",
   "metadata": {},
   "outputs": [
    {
     "name": "stdout",
     "output_type": "stream",
     "text": [
      "222.1M\n"
     ]
    }
   ],
   "source": [
    "# Pulls appropriate section of HTML\n",
    "temp = soup.find(\"div\", class_=\"card-content\")\n",
    "\n",
    "# Grabs the number of people fully vaccinated in millions\n",
    "people_vaccinated_millions = temp.find(\"h1\").get_text()\n",
    "\n",
    "print(people_vaccinated_millions)"
   ]
  },
  {
   "cell_type": "code",
   "execution_count": 11,
   "id": "af3531f9",
   "metadata": {},
   "outputs": [
    {
     "name": "stdout",
     "output_type": "stream",
     "text": [
      "259,426,758\n",
      "78.1%\n",
      "--------------------------\n",
      "259,285,069\n",
      "83%\n",
      "--------------------------\n",
      "248,843,037\n",
      "87.8%\n",
      "--------------------------\n",
      "231,187,240\n",
      "89.5%\n",
      "--------------------------\n",
      "57,126,309\n",
      "95%\n",
      "--------------------------\n"
     ]
    }
   ],
   "source": [
    "# Pulls appropriate section of HTML\n",
    "temp = soup.find(\"div\", {\"data-tab\": \"atLeastOne\"})\n",
    "\n",
    "# Filtering down the HTML\n",
    "rows = temp.find_all(\"div\", class_=\"row w-100 pl-1 pr-1\")\n",
    "\n",
    "# Filtering down the HTML\n",
    "total = rows[0].find_all(\"div\", class_=\"card-number\")\n",
    "\n",
    "# Stores and formats total people with at least one dose\n",
    "atleast_one_dose_total = total[0].get_text()\n",
    "atleast_one_dose_total = atleast_one_dose_total.replace(\"\\n\", \"\").replace(\" \", \"\")\n",
    "\n",
    "# Stores and formats total people with at least one dose by percentage\n",
    "atleast_one_dose_total_percent = total[1].get_text()\n",
    "atleast_one_dose_total_percent = atleast_one_dose_total_percent.replace(\"\\n\", \"\").replace(\" \", \"\")\n",
    "\n",
    "print(atleast_one_dose_total)\n",
    "print(atleast_one_dose_total_percent)\n",
    "print(\"--------------------------\")\n",
    "\n",
    "# Filtering down the HTML\n",
    "total = rows[1].find_all(\"div\", class_=\"card-number\")\n",
    "\n",
    "# Stores and formats people older than 5 with at least one dose\n",
    "atleast_one_dose_greater_5 = total[0].get_text()\n",
    "atleast_one_dose_greater_5 = atleast_one_dose_greater_5.replace(\"\\n\", \"\").replace(\" \", \"\")\n",
    "\n",
    "# Stores and formats people older than 5 with at least one dose by percentage\n",
    "atleast_one_dose_greater_5_percent = total[1].get_text()\n",
    "atleast_one_dose_greater_5_percent = atleast_one_dose_greater_5_percent.replace(\"\\n\", \"\").replace(\" \", \"\")\n",
    "\n",
    "print(atleast_one_dose_greater_5)\n",
    "print(atleast_one_dose_greater_5_percent)\n",
    "print(\"--------------------------\")\n",
    "\n",
    "# Filtering down the HTML\n",
    "total = rows[2].find_all(\"div\", class_=\"card-number\")\n",
    "\n",
    "# Stores and formats people older than 12 with at least one dose\n",
    "atleast_one_dose_greater_12 = total[0].get_text()\n",
    "atleast_one_dose_greater_12 = atleast_one_dose_greater_12.replace(\"\\n\", \"\").replace(\" \", \"\")\n",
    "\n",
    "# Stores and formats people older than 12 with at least one dose by percentage\n",
    "atleast_one_dose_greater_12_percent = total[1].get_text()\n",
    "atleast_one_dose_greater_12_percent = atleast_one_dose_greater_12_percent.replace(\"\\n\", \"\").replace(\" \", \"\")\n",
    "\n",
    "print(atleast_one_dose_greater_12)\n",
    "print(atleast_one_dose_greater_12_percent)\n",
    "print(\"--------------------------\")\n",
    "\n",
    "# Filtering down the HTML\n",
    "total = rows[3].find_all(\"div\", class_=\"card-number\")\n",
    "\n",
    "# Stores and formats people older than 18 with at least one dose\n",
    "atleast_one_dose_greater_18 = total[0].get_text()\n",
    "atleast_one_dose_greater_18 = atleast_one_dose_greater_18.replace(\"\\n\", \"\").replace(\" \", \"\")\n",
    "\n",
    "# Stores and formats people older than 18 with at least one dose by percentage\n",
    "atleast_one_dose_greater_18_percent = total[1].get_text()\n",
    "atleast_one_dose_greater_18_percent = atleast_one_dose_greater_18_percent.replace(\"\\n\", \"\").replace(\" \", \"\")\n",
    "\n",
    "print(atleast_one_dose_greater_18)\n",
    "print(atleast_one_dose_greater_18_percent)\n",
    "print(\"--------------------------\")\n",
    "\n",
    "# 65+ has a different class\n",
    "row_65 = temp.find(\"div\", class_=\"row w-10 pl-1 pr-1\")\n",
    "\n",
    "# Filtering down the HTML\n",
    "total = row_65.find_all(\"div\", class_=\"card-number\")\n",
    "\n",
    "# Stores and formats people older than 65 with at least one dose\n",
    "atleast_one_dose_greater_65 = total[0].get_text()\n",
    "atleast_one_dose_greater_65 = atleast_one_dose_greater_65.replace(\"\\n\", \"\").replace(\" \", \"\")\n",
    "\n",
    "# Stores and formats people older than 65 with at least one dose by percentage\n",
    "atleast_one_dose_greater_65_percent = total[1].get_text()\n",
    "atleast_one_dose_greater_65_percent = atleast_one_dose_greater_65_percent.replace(\"\\n\", \"\").replace(\" \", \"\")\n",
    "\n",
    "print(atleast_one_dose_greater_65)\n",
    "print(atleast_one_dose_greater_65_percent)\n",
    "print(\"--------------------------\")\n",
    "\n"
   ]
  },
  {
   "cell_type": "code",
   "execution_count": 12,
   "id": "470d3683",
   "metadata": {},
   "outputs": [
    {
     "data": {
      "text/plain": [
       "{'atleast_one_dose_total': '259,426,758',\n",
       " 'atleast_one_dose_greater_5': '259,285,069',\n",
       " 'atleast_one_dose_greater_12': '248,843,037',\n",
       " 'atleast_one_dose_greater_18': '231,187,240',\n",
       " 'atleast_one_dose_greater_65': '57,126,309',\n",
       " 'Percent taken atleast one dose': '78.1%',\n",
       " 'Percent taken _one dose gereater 5': '83%',\n",
       " 'Percent taken _one dose gereater 12': '87.8%',\n",
       " 'Percent taken _one dose gereater 18': '89.5%',\n",
       " 'Percent taken _one dose gereater 65': '95%'}"
      ]
     },
     "execution_count": 12,
     "metadata": {},
     "output_type": "execute_result"
    }
   ],
   "source": [
    "# Storing results for atleast one dose vaccination info in a dictionary\n",
    "atleast_one_dose = {\n",
    "    \"atleast_one_dose_total\": atleast_one_dose_total, \n",
    "    \"atleast_one_dose_greater_5\": atleast_one_dose_greater_5, \n",
    "    \"atleast_one_dose_greater_12\": atleast_one_dose_greater_12 , \n",
    "    \"atleast_one_dose_greater_18\": atleast_one_dose_greater_18, \n",
    "    \"atleast_one_dose_greater_65\": atleast_one_dose_greater_65,\n",
    "    \"Percent taken atleast one dose\": atleast_one_dose_total_percent, \n",
    "    \"Percent taken _one dose gereater 5\": atleast_one_dose_greater_5_percent, \n",
    "    \"Percent taken _one dose gereater 12\": atleast_one_dose_greater_12_percent, \n",
    "    \"Percent taken _one dose gereater 18\": atleast_one_dose_greater_18_percent,\n",
    "    \"Percent taken _one dose gereater 65\": atleast_one_dose_greater_65_percent\n",
    "}\n",
    "\n",
    "atleast_one_dose"
   ]
  },
  {
   "cell_type": "code",
   "execution_count": 13,
   "id": "2a90ccde",
   "metadata": {},
   "outputs": [
    {
     "name": "stdout",
     "output_type": "stream",
     "text": [
      "222,123,223\n",
      "66.9%\n",
      "--------------------------\n",
      "222,050,422\n",
      "71.1%\n",
      "--------------------------\n",
      "213,535,089\n",
      "75.3%\n",
      "--------------------------\n",
      "198,395,451\n",
      "76.8%\n",
      "--------------------------\n",
      "50,093,805\n",
      "91.4%\n",
      "--------------------------\n"
     ]
    }
   ],
   "source": [
    "# Pulls appropriate section of HTML\n",
    "temp = soup.find(\"div\", {\"data-tab\": \"fullyVaccinated\"})\n",
    "\n",
    "# Filtering down the HTML\n",
    "rows = temp.find_all(\"div\", class_=\"row w-100 pl-1 pr-1\")\n",
    "\n",
    "# Filtering down the HTML\n",
    "total = rows[0].find_all(\"div\", class_=\"card-number\")\n",
    "\n",
    "# Stores and formats total people fully vaccinated\n",
    "fully_vaccinated_total = total[0].get_text()\n",
    "fully_vaccinated_total = fully_vaccinated_total.replace(\"\\n\", \"\").replace(\" \", \"\")\n",
    "\n",
    "# Stores and formats total people fully vaccinated by percentage\n",
    "fully_vaccinated_total_percent = total[1].get_text()\n",
    "fully_vaccinated_total_percent = fully_vaccinated_total_percent.replace(\"\\n\", \"\").replace(\" \", \"\")\n",
    "\n",
    "print(fully_vaccinated_total)\n",
    "print(fully_vaccinated_total_percent)\n",
    "print(\"--------------------------\")\n",
    "\n",
    "# Filtering down the HTML\n",
    "total = rows[1].find_all(\"div\", class_=\"card-number\")\n",
    "\n",
    "# Stores and formats people older than 5 fully vaccinated\n",
    "fully_vaccinated_greater_5 = total[0].get_text()\n",
    "fully_vaccinated_greater_5 = fully_vaccinated_greater_5.replace(\"\\n\", \"\").replace(\" \", \"\")\n",
    "\n",
    "# Stores and formats people older than 5 fully vaccinated by percentage\n",
    "fully_vaccinated_greater_5_percent = total[1].get_text()\n",
    "fully_vaccinated_greater_5_percent = fully_vaccinated_greater_5_percent.replace(\"\\n\", \"\").replace(\" \", \"\")\n",
    "\n",
    "print(fully_vaccinated_greater_5)\n",
    "print(fully_vaccinated_greater_5_percent)\n",
    "print(\"--------------------------\")\n",
    "\n",
    "# Filtering down the HTML\n",
    "total = rows[2].find_all(\"div\", class_=\"card-number\")\n",
    "\n",
    "# Stores and formats people older than 12 fully vaccinated\n",
    "fully_vaccinated_greater_12 = total[0].get_text()\n",
    "fully_vaccinated_greater_12 = fully_vaccinated_greater_12.replace(\"\\n\", \"\").replace(\" \", \"\")\n",
    "\n",
    "# Stores and formats people older than 12 fully vaccinated by percentage\n",
    "fully_vaccinated_greater_12_percent = total[1].get_text()\n",
    "fully_vaccinated_greater_12_percent = fully_vaccinated_greater_12_percent.replace(\"\\n\", \"\").replace(\" \", \"\")\n",
    "\n",
    "print(fully_vaccinated_greater_12)\n",
    "print(fully_vaccinated_greater_12_percent)\n",
    "print(\"--------------------------\")\n",
    "\n",
    "# Filtering down the HTML\n",
    "total = rows[3].find_all(\"div\", class_=\"card-number\")\n",
    "\n",
    "# Stores and formats people older than 18 fully vaccinated\n",
    "fully_vaccinated_greater_18 = total[0].get_text()\n",
    "fully_vaccinated_greater_18 = fully_vaccinated_greater_18.replace(\"\\n\", \"\").replace(\" \", \"\")\n",
    "\n",
    "# Stores and formats people older than 18 fully vaccinated by percentage\n",
    "fully_vaccinated_greater_18_percent = total[1].get_text()\n",
    "fully_vaccinated_greater_18_percent = fully_vaccinated_greater_18_percent.replace(\"\\n\", \"\").replace(\" \", \"\")\n",
    "\n",
    "print(fully_vaccinated_greater_18)\n",
    "print(fully_vaccinated_greater_18_percent)\n",
    "print(\"--------------------------\")\n",
    "\n",
    "# 65+ has a different class\n",
    "row_65 = temp.find(\"div\", class_=\"row w-10 pl-1 pr-1\")\n",
    "\n",
    "# Filtering down the HTML\n",
    "total = row_65.find_all(\"div\", class_=\"card-number\")\n",
    "\n",
    "# Stores and formats people older than 65 fully vaccinated\n",
    "fully_vaccinated_greater_65 = total[0].get_text()\n",
    "fully_vaccinated_greater_65 = fully_vaccinated_greater_65.replace(\"\\n\", \"\").replace(\" \", \"\")\n",
    "\n",
    "# Stores and formats people older than 65 fully vaccinated by percentage\n",
    "fully_vaccinated_greater_65_percent = total[1].get_text()\n",
    "fully_vaccinated_greater_65_percent = fully_vaccinated_greater_65_percent.replace(\"\\n\", \"\").replace(\" \", \"\")\n",
    "\n",
    "print(fully_vaccinated_greater_65)\n",
    "print(fully_vaccinated_greater_65_percent)\n",
    "print(\"--------------------------\")"
   ]
  },
  {
   "cell_type": "code",
   "execution_count": 14,
   "id": "a2ca08a2",
   "metadata": {},
   "outputs": [
    {
     "data": {
      "text/plain": [
       "{'fully_vaccinated_total': '222,123,223',\n",
       " 'fully_vaccinated_greater_5': '222,050,422',\n",
       " 'fully_vaccinated_greater_12': '213,535,089',\n",
       " 'fully_vaccinated_greater_18': '198,395,451',\n",
       " 'fully_vaccinated_greater_65': '50,093,805',\n",
       " 'Percent fully_vaccinated': '66.9%',\n",
       " 'Percent fully_vaccinated_greater_5': '71.1%',\n",
       " 'Percent fully_vaccinated_greater_12': '75.3%',\n",
       " 'Percent fully_vaccinated_greater_18': '76.8%',\n",
       " 'Percentfully_vaccinated_greater_65': '91.4%'}"
      ]
     },
     "execution_count": 14,
     "metadata": {},
     "output_type": "execute_result"
    }
   ],
   "source": [
    "# Storing results for full vaccination info in a dictionary\n",
    "fully_vaccinated = {\n",
    "    \"fully_vaccinated_total\": fully_vaccinated_total,\n",
    "    \"fully_vaccinated_greater_5\": fully_vaccinated_greater_5, \n",
    "    \"fully_vaccinated_greater_12\": fully_vaccinated_greater_12,\n",
    "    \"fully_vaccinated_greater_18\": fully_vaccinated_greater_18,\n",
    "    \"fully_vaccinated_greater_65\": fully_vaccinated_greater_65,\n",
    "    \"Percent fully_vaccinated\": fully_vaccinated_total_percent, \n",
    "    \"Percent fully_vaccinated_greater_5\": fully_vaccinated_greater_5_percent, \n",
    "    \"Percent fully_vaccinated_greater_12\": fully_vaccinated_greater_12_percent, \n",
    "    \"Percent fully_vaccinated_greater_18\": fully_vaccinated_greater_18_percent, \n",
    "    \"Percentfully_vaccinated_greater_65\": fully_vaccinated_greater_65_percent\n",
    "}\n",
    "\n",
    "fully_vaccinated"
   ]
  },
  {
   "cell_type": "code",
   "execution_count": 15,
   "id": "7c270867",
   "metadata": {},
   "outputs": [
    {
     "data": {
      "text/plain": [
       "{'total_cases': '86,512,787',\n",
       " 'new_cases': '+130,274 New Cases',\n",
       " 'total_deaths': '1,010,090',\n",
       " 'new_deaths': '+545 New Deaths',\n",
       " 'total_doses_distributed': '762,236,905',\n",
       " 'total_doses_administered': '593,739,529',\n",
       " 'people_vaccinated_millions': '222.1M',\n",
       " 'atleast_one_dose': {'atleast_one_dose_total': '259,426,758',\n",
       "  'atleast_one_dose_greater_5': '259,285,069',\n",
       "  'atleast_one_dose_greater_12': '248,843,037',\n",
       "  'atleast_one_dose_greater_18': '231,187,240',\n",
       "  'atleast_one_dose_greater_65': '57,126,309',\n",
       "  'Percent taken atleast one dose': '78.1%',\n",
       "  'Percent taken _one dose gereater 5': '83%',\n",
       "  'Percent taken _one dose gereater 12': '87.8%',\n",
       "  'Percent taken _one dose gereater 18': '89.5%',\n",
       "  'Percent taken _one dose gereater 65': '95%'},\n",
       " 'fully_vaccinated': {'fully_vaccinated_total': '222,123,223',\n",
       "  'fully_vaccinated_greater_5': '222,050,422',\n",
       "  'fully_vaccinated_greater_12': '213,535,089',\n",
       "  'fully_vaccinated_greater_18': '198,395,451',\n",
       "  'fully_vaccinated_greater_65': '50,093,805',\n",
       "  'Percent fully_vaccinated': '66.9%',\n",
       "  'Percent fully_vaccinated_greater_5': '71.1%',\n",
       "  'Percent fully_vaccinated_greater_12': '75.3%',\n",
       "  'Percent fully_vaccinated_greater_18': '76.8%',\n",
       "  'Percentfully_vaccinated_greater_65': '91.4%'}}"
      ]
     },
     "execution_count": 15,
     "metadata": {},
     "output_type": "execute_result"
    }
   ],
   "source": [
    "# Set up list to hold all the info scrapped\n",
    "dashboard_info = {\n",
    "    \"total_cases\": total_cases,\n",
    "    \"new_cases\": new_cases,\n",
    "    \"total_deaths\": total_deaths,\n",
    "    \"new_deaths\": new_deaths,\n",
    "    \"total_doses_distributed\": total_doses_distributed,\n",
    "    \"total_doses_administered\": total_doses_administered,\n",
    "    \"people_vaccinated_millions\": people_vaccinated_millions,\n",
    "    \"atleast_one_dose\": atleast_one_dose,\n",
    "    \"fully_vaccinated\": fully_vaccinated\n",
    "}\n",
    "dashboard_info"
   ]
  },
  {
   "cell_type": "code",
   "execution_count": null,
   "id": "c9e9911a",
   "metadata": {},
   "outputs": [],
   "source": []
  }
 ],
 "metadata": {
  "kernelspec": {
   "display_name": "Python [conda env:PythonData38]",
   "language": "python",
   "name": "conda-env-PythonData38-py"
  },
  "language_info": {
   "codemirror_mode": {
    "name": "ipython",
    "version": 3
   },
   "file_extension": ".py",
   "mimetype": "text/x-python",
   "name": "python",
   "nbconvert_exporter": "python",
   "pygments_lexer": "ipython3",
   "version": "3.8.5"
  }
 },
 "nbformat": 4,
 "nbformat_minor": 5
}
