{
 "cells": [
  {
   "cell_type": "markdown",
   "id": "f0e9c158",
   "metadata": {},
   "source": [
    "## Data Conversion for WHO_COVID19_Global_Data File"
   ]
  },
  {
   "cell_type": "code",
   "execution_count": null,
   "id": "e287936a",
   "metadata": {},
   "outputs": [],
   "source": [
    "import pandas as pd"
   ]
  },
  {
   "cell_type": "code",
   "execution_count": null,
   "id": "6a2c6ed4",
   "metadata": {},
   "outputs": [],
   "source": [
    "# Extract CSV into Dataframe\n",
    "file = \"../Resources/WHO_COVID19_Global_Data.csv\"\n",
    "\n",
    "#Read CSV\n",
    "data = pd.read_csv(file, encoding=\"latin-1\")\n",
    "data.head()"
   ]
  },
  {
   "cell_type": "code",
   "execution_count": null,
   "id": "b33682f2",
   "metadata": {
    "scrolled": true
   },
   "outputs": [],
   "source": [
    "WHO_data = data.set_index(\"Name\")"
   ]
  },
  {
   "cell_type": "code",
   "execution_count": null,
   "id": "d9530105",
   "metadata": {},
   "outputs": [],
   "source": [
    "# save data as html file\n",
    "WHO_data.to_html(\"raw_WHO_data.html\")"
   ]
  },
  {
   "cell_type": "code",
   "execution_count": null,
   "id": "969fdd04",
   "metadata": {},
   "outputs": [],
   "source": []
  }
 ],
 "metadata": {
  "kernelspec": {
   "display_name": "Python [conda env:PythonData38] *",
   "language": "python",
   "name": "conda-env-PythonData38-py"
  },
  "language_info": {
   "codemirror_mode": {
    "name": "ipython",
    "version": 3
   },
   "file_extension": ".py",
   "mimetype": "text/x-python",
   "name": "python",
   "nbconvert_exporter": "python",
   "pygments_lexer": "ipython3",
   "version": "3.8.13"
  }
 },
 "nbformat": 4,
 "nbformat_minor": 5
}
